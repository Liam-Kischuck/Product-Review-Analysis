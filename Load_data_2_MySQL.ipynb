{
 "cells": [
  {
   "cell_type": "code",
   "execution_count": 1,
   "id": "68d60ac5",
   "metadata": {},
   "outputs": [],
   "source": [
    "import pandas as pd\n",
    "import mysql.connector"
   ]
  },
  {
   "cell_type": "code",
   "execution_count": 2,
   "id": "00aaa453",
   "metadata": {},
   "outputs": [],
   "source": [
    "df = pd.read_csv('Reviews.csv')"
   ]
  },
  {
   "cell_type": "code",
   "execution_count": 3,
   "id": "5ab68755",
   "metadata": {},
   "outputs": [],
   "source": [
    "connection = mysql.connector.connect(host='localhost',\n",
    "user='root',\n",
    "password='',          #Type in Password here.\n",
    "database='amazon_reviews_data')"
   ]
  },
  {
   "cell_type": "code",
   "execution_count": 6,
   "id": "ff1b53d7",
   "metadata": {},
   "outputs": [
    {
     "data": {
      "text/plain": [
       "<map at 0x18c3789abe0>"
      ]
     },
     "metadata": {},
     "output_type": "display_data"
    }
   ],
   "source": [
    "display(df.itertuples())"
   ]
  },
  {
   "cell_type": "code",
   "execution_count": 6,
   "id": "fb545124",
   "metadata": {
    "scrolled": true
   },
   "outputs": [
    {
     "name": "stdout",
     "output_type": "stream",
     "text": [
      "Id                        0\n",
      "ProductId                 0\n",
      "UserId                    0\n",
      "ProductName               0\n",
      "HelpfulnessNumerator      0\n",
      "HelpfulnessDenominator    0\n",
      "Score                     0\n",
      "Time_record               0\n",
      "Summary                   0\n",
      "Text_record               0\n",
      "dtype: int64\n"
     ]
    }
   ],
   "source": [
    "salary_nan_count = df.isna().sum()\n",
    "\n",
    "print(salary_nan_count)"
   ]
  },
  {
   "cell_type": "code",
   "execution_count": 5,
   "id": "c29eccf5",
   "metadata": {},
   "outputs": [],
   "source": [
    "df['ProductName'].fillna(0, inplace = True)\n",
    "df['Summary'].fillna(0, inplace = True)"
   ]
  },
  {
   "cell_type": "code",
   "execution_count": 8,
   "id": "321ffdfb",
   "metadata": {},
   "outputs": [],
   "source": [
    "cursor = connection.cursor()\n",
    "query = 'INSERT INTO review_info_3 (Id, ProductId, UserId, ProductName, HelpfulnessNumerator, HelpfulnessDenominator, Score, Time_record, Summary, Text_record) VALUES (%s, %s, %s, %s, %s, %s, %s, %s, %s, %s)'\n",
    "for row in df.itertuples():\n",
    "    cursor.execute(query, (row.Id, row.ProductId, row.UserId, row.ProductName, row.HelpfulnessNumerator, row.HelpfulnessDenominator, row.Score, row.Time_record, row.Summary, row.Text_record))\n",
    "connection.commit()"
   ]
  },
  {
   "cell_type": "code",
   "execution_count": null,
   "id": "d7d20cdf",
   "metadata": {},
   "outputs": [],
   "source": [
    "cursor.close()\n",
    "connection.close()"
   ]
  }
 ],
 "metadata": {
  "kernelspec": {
   "display_name": "Python 3 (ipykernel)",
   "language": "python",
   "name": "python3"
  },
  "language_info": {
   "codemirror_mode": {
    "name": "ipython",
    "version": 3
   },
   "file_extension": ".py",
   "mimetype": "text/x-python",
   "name": "python",
   "nbconvert_exporter": "python",
   "pygments_lexer": "ipython3",
   "version": "3.9.7"
  }
 },
 "nbformat": 4,
 "nbformat_minor": 5
}
